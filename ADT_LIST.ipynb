{
  "nbformat": 4,
  "nbformat_minor": 0,
  "metadata": {
    "colab": {
      "provenance": [],
      "authorship_tag": "ABX9TyMMWU25e8ZUbcrYmEL3I/Q7",
      "include_colab_link": true
    },
    "kernelspec": {
      "name": "python3",
      "display_name": "Python 3"
    },
    "language_info": {
      "name": "python"
    }
  },
  "cells": [
    {
      "cell_type": "markdown",
      "metadata": {
        "id": "view-in-github",
        "colab_type": "text"
      },
      "source": [
        "<a href=\"https://colab.research.google.com/github/RirinIndriyani-019/ADT_List/blob/main/ADT_LIST.ipynb\" target=\"_parent\"><img src=\"https://colab.research.google.com/assets/colab-badge.svg\" alt=\"Open In Colab\"/></a>"
      ]
    },
    {
      "cell_type": "code",
      "source": [
        "Nama = \"Ririn Indriyani\"\n",
        "NIM = '119160019'\n",
        "\n",
        "print(Nama)\n",
        "print(NIM)"
      ],
      "metadata": {
        "colab": {
          "base_uri": "https://localhost:8080/"
        },
        "id": "I8mxqdY1vesa",
        "outputId": "1d12142a-7681-4b4b-de09-8d8c8c1908a6"
      },
      "execution_count": 7,
      "outputs": [
        {
          "output_type": "stream",
          "name": "stdout",
          "text": [
            "Ririn Indriyani\n",
            "119160019\n"
          ]
        }
      ]
    },
    {
      "cell_type": "code",
      "execution_count": 6,
      "metadata": {
        "colab": {
          "base_uri": "https://localhost:8080/"
        },
        "id": "821PVablumHV",
        "outputId": "5ad116ff-6f4f-435a-df5d-0967469daec9"
      },
      "outputs": [
        {
          "output_type": "stream",
          "name": "stdout",
          "text": [
            "100\n",
            "66\n",
            "a\n"
          ]
        }
      ],
      "source": [
        "class Node:\n",
        "      def __init__(self,data:None):\n",
        "            self.data = data\n",
        "            self.next = None\n",
        "            \n",
        "      def getData(self):\n",
        "            return self.data\n",
        "      \n",
        "      def getNext(self):\n",
        "            return self.next\n",
        "      \n",
        "      def setData(self,newdata):\n",
        "            self.data = newdata\n",
        "            \n",
        "      def setNext(self,newnext):\n",
        "            self.next = newnext\n",
        "\n",
        "# Testing/Pengecekan\n",
        "n1 = Node(100)\n",
        "n2 = Node('a')\n",
        "n3 = Node(66)\n",
        "\n",
        "n1.setNext(n3)\n",
        "n3.setNext(n2)\n",
        "\n",
        "c = n1\n",
        "while c :\n",
        "    print(c.data)\n",
        "    c = c.next"
      ]
    },
    {
      "cell_type": "code",
      "source": [
        "# UnoderList\n",
        "class UnoderList:\n",
        "      def __init__(self):\n",
        "            self.head = None\n",
        "\n",
        "      def isEmpty(self):\n",
        "            return self.head == None\n",
        "\n",
        "      def add(self,item):\n",
        "            temp = Node(item)\n",
        "            temp.setNext(self.head)\n",
        "            self.head = temp\n",
        "\n",
        "      def size(self):\n",
        "            current = self.head\n",
        "            count = 0\n",
        "            while current != None:\n",
        "                  count = count + 1\n",
        "                  current = current.getNext()\n",
        "            return count\n",
        "\n",
        "      # searches for the item in the list. It needs the item and returns a boolean value.\n",
        "      def search(self,item):\n",
        "            pass\n",
        "      \n",
        "      # Menghapus nilai dari suatu Unorderlist\n",
        "      def remove(self,item):\n",
        "            pass\n",
        "      \n",
        "      # adds a new item to the end of the list making it the last item in the col- lection. \n",
        "      # It needs the item and returns nothing. Assume the item is not already in the list.\n",
        "      def append(self, item):\n",
        "            pass\n",
        "       # returns the position of item in the list. It needs the item and returns the index. Assume the item is in the list\n",
        "      def index(self, item):\n",
        "            pass\n",
        "      \n",
        "      # adds a new item to the list at position pos. It needs the item and returns nothing. \n",
        "      # Assume the item is not already in the list and there are enough existing items to have position pos.\n",
        "      def insert(self, pos, item):\n",
        "            pass\n",
        "      \n",
        "      # removes and returns the last item in the list. \n",
        "      # It needs nothing and returns an item. Assume the list has at least one item\n",
        "      def pop(self):\n",
        "            pass \n",
        "      \n",
        "      # removes and returns the item at position pos. \n",
        "      # It needs the position and returns the item. Assume the item is in the list\n",
        "      def pop(self, pos):\n",
        "            pass\n",
        "      \n",
        "      # mencetak nilai di dalam unorderlist \n",
        "      def cetak(self):\n",
        "            pass"
      ],
      "metadata": {
        "id": "cruu4pIDupGs"
      },
      "execution_count": 2,
      "outputs": []
    },
    {
      "cell_type": "code",
      "source": [
        "# Testing/Pengecekan\n",
        "MyUnorderList = UnoderList()\n",
        "print(MyUnorderList.isEmpty())\n",
        "MyUnorderList.add(22)\n",
        "MyUnorderList.add(10)\n",
        "MyUnorderList.add(12)\n",
        "MyUnorderList.add(18)\n",
        "MyUnorderList.add(20) # 10, 12, 18, 20, 22\n",
        "MyUnorderList.cetak()\n",
        "MyUnorderList.remove(20)\n",
        "MyUnorderList.cetak() # 10, 12, 18,22\n",
        "\n",
        "print(MyUnorderList.size())\n",
        "print(MyUnorderList.search(1))\n",
        "MyUnorderList.cetak()\n"
      ],
      "metadata": {
        "colab": {
          "base_uri": "https://localhost:8080/"
        },
        "id": "FaU0CTXJu3xB",
        "outputId": "eae58deb-1568-4a8e-d54e-6bae83efe345"
      },
      "execution_count": 5,
      "outputs": [
        {
          "output_type": "stream",
          "name": "stdout",
          "text": [
            "True\n",
            "5\n",
            "None\n"
          ]
        }
      ]
    },
    {
      "cell_type": "code",
      "source": [],
      "metadata": {
        "id": "8dtoLtiJu82F"
      },
      "execution_count": null,
      "outputs": []
    }
  ]
}